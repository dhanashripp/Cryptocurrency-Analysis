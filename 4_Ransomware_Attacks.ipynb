{
 "cells": [
  {
   "cell_type": "code",
   "execution_count": null,
   "metadata": {},
   "outputs": [],
   "source": [
    "# AUTHOR: Nishant Borude (nborude@cs.stonybrook.edu)\n",
    "# Task: Analysis of Ransomware attacks and Crypto-Currency"
   ]
  },
  {
   "cell_type": "code",
   "execution_count": 26,
   "metadata": {},
   "outputs": [],
   "source": [
    "import numpy as np\n",
    "import pandas as pd\n",
    "from scipy.stats import norm\n",
    "import matplotlib.pyplot as plt\n",
    "import matplotlib.mlab as mlab\n",
    "plt.style.use(\"fivethirtyeight\")"
   ]
  },
  {
   "cell_type": "markdown",
   "metadata": {},
   "source": [
    "### Wald's Test for 2 Population definition"
   ]
  },
  {
   "cell_type": "code",
   "execution_count": 27,
   "metadata": {},
   "outputs": [],
   "source": [
    "def wald(X, Y):\n",
    "    p1_hat = sum(X) / len(X)\n",
    "    p2_hat = sum(Y) / len(Y)\n",
    "    t_sum = 0\n",
    "    for i in X:\n",
    "        t_sum += (i - p1_hat)**2\n",
    "    var_1 = t_sum / len(X)\n",
    "    t_sum = 0\n",
    "    for i in Y:\n",
    "        t_sum += (i - p2_hat)**2\n",
    "    var_2 = t_sum / len(Y)\n",
    "    w = abs((p1_hat - p2_hat) / np.sqrt((var_1/ len(X)) + (var_2 / len(Y))))\n",
    "    print(\"Wald's Value: \", w)\n",
    "    if w > 1.96:\n",
    "        print('Reject Null')\n",
    "    else:\n",
    "        print('Accept Null')\n",
    "    return (p1_hat - p2_hat), np.sqrt((var_1/ len(X)) + (var_2 / len(Y))), w"
   ]
  },
  {
   "cell_type": "markdown",
   "metadata": {},
   "source": [
    "### Bayesian Inference function"
   ]
  },
  {
   "cell_type": "code",
   "execution_count": 106,
   "metadata": {},
   "outputs": [],
   "source": [
    "def funct(sigma, data):\n",
    "    a = 0\n",
    "    b_2 = 1\n",
    "    a_list = []\n",
    "    b_list = []\n",
    "    se_2 = (sigma**2) / data.shape[1]\n",
    "    \n",
    "    for i in range(data.shape[0]):\n",
    "        pos_data = data.iloc[i, :]\n",
    "        X_bar = np.mean(pos_data)\n",
    "        x = (b_2 * X_bar + se_2 * a) / (b_2 + se_2)\n",
    "        y_2 = (b_2 * se_2) / (b_2 + se_2)\n",
    "        a = x\n",
    "        b_2 = y_2\n",
    "        a_list.append(a)\n",
    "        b_list.append(b_2)\n",
    "\n",
    "#     plt.figure(figsize=(20,10))\n",
    "    for i in range(len(a_list)):\n",
    "        mu = a_list[i]\n",
    "        variance = b_list[i]\n",
    "        sigma = np.sqrt(variance)\n",
    "        x = np.linspace(mu - 3*sigma, mu + 3*sigma, 100)\n",
    "        plt.plot(x,mlab.normpdf(x, mu, sigma))\n",
    "    \n",
    "    leg_list= []\n",
    "    for i in range(len(a_list)):\n",
    "        leg_list.append('Mean {:.2g}, Var {:.2g}'.format(a_list[i], b_list[i]))\n",
    "    \n",
    "    plt.legend(leg_list, prop={'size': 10})\n",
    "    plt.xticks(fontsize = 12)\n",
    "    plt.yticks(fontsize = 12)\n",
    "    plt.title(\"Posterior Plot\", fontsize = 12)\n",
    "    plt.xlabel(\"Distribution\", fontsize = 12)\n",
    "    plt.ylabel(\"Value\", fontsize = 12)\n",
    "    plt.savefig('a.jpg', bbox_inches='tight')\n",
    "    plt.show()\n",
    "    \n",
    "    d = pd.DataFrame()\n",
    "    d[0] = a_list\n",
    "    d[1] = b_list\n",
    "    d.columns = ['Mean', 'Variance']\n",
    "    return d"
   ]
  },
  {
   "cell_type": "markdown",
   "metadata": {},
   "source": [
    "### Plot functions for different graphs"
   ]
  },
  {
   "cell_type": "code",
   "execution_count": 29,
   "metadata": {},
   "outputs": [],
   "source": [
    "def plot(pred, test):\n",
    "    plt.figure(figsize=(20,10))\n",
    "    plt.xticks(fontsize = 15)\n",
    "    plt.yticks(fontsize = 15)\n",
    "    plt.title(\"Prediction vs Actual data\", fontsize = 15)\n",
    "    plt.xlabel(\"Point\", fontsize = 15)\n",
    "    plt.ylabel(\"Value\", fontsize = 15)\n",
    "    test = list(test.reshape(-1))\n",
    "    plt.plot(pred)\n",
    "    plt.plot(test)\n",
    "    plt.legend(['Prediction', 'Actual'], prop={'size': 15})\n",
    "    plt.savefig('a.jpg', bbox_inches='tight', pad_inches = 1)\n",
    "    plt.show()"
   ]
  },
  {
   "cell_type": "code",
   "execution_count": 74,
   "metadata": {},
   "outputs": [],
   "source": [
    "def plot(x_data):\n",
    "    plt.title(\"Distribution\", fontsize= 12)\n",
    "    plt.xlabel(\"Time\", fontsize= 12)\n",
    "    plt.ylabel(\"Value\", fontsize= 12)\n",
    "    plt.plot(x_data)\n",
    "    plt.legend(['Actual'])\n",
    "    plt.savefig('gauss.jpg', bbox_inches='tight')\n",
    "    plt.show()"
   ]
  },
  {
   "cell_type": "markdown",
   "metadata": {},
   "source": [
    "### Bitcoin and ransomware dataset reading and formatting"
   ]
  },
  {
   "cell_type": "code",
   "execution_count": 31,
   "metadata": {},
   "outputs": [],
   "source": [
    "bitcoin = pd.read_csv(\"dataset/bitcoin_dataset.csv\")\n",
    "bitcoin_price = pd.read_csv(\"dataset/bitcoin_price.csv\")\n",
    "ran_new = pd.read_csv(\"ransomware.csv\", sep= \",\")\n",
    "ransomware = pd.read_csv(\"ransomware_data.csv\", sep= \",\", header=None, names=[\"Date\", \"R\", \"R1\", \"R2\"])"
   ]
  },
  {
   "cell_type": "code",
   "execution_count": 32,
   "metadata": {},
   "outputs": [],
   "source": [
    "ran_new[\"Year\"] = pd.to_datetime(ran_new[\"Date\"]).dt.year\n",
    "ran_new[\"Month\"] = pd.to_datetime(ran_new[\"Date\"]).dt.month\n",
    "ran_new = ran_new.drop([\"Date\"],axis = 1)\n",
    "# df[\"Year\"] = pd.to_datetime(df[\"Date\"]).dt.year\n",
    "# df[\"Month\"] = pd.to_datetime(df[\"Date\"]).dt.month"
   ]
  },
  {
   "cell_type": "code",
   "execution_count": 33,
   "metadata": {},
   "outputs": [],
   "source": [
    "df = pd.DataFrame(pd.to_datetime(ransomware[\"Date\"]).value_counts())\n",
    "df = df.reset_index()\n",
    "df = df.rename(index=str, columns={\"Date\": \"Count\", \"index\": \"Date\"})"
   ]
  },
  {
   "cell_type": "code",
   "execution_count": 34,
   "metadata": {},
   "outputs": [],
   "source": [
    "df[\"Year\"] = pd.to_datetime(df[\"Date\"]).dt.year\n",
    "df[\"Month\"] = pd.to_datetime(df[\"Date\"]).dt.month\n",
    "count_frame = df.drop([\"Date\"],axis = 1)"
   ]
  },
  {
   "cell_type": "code",
   "execution_count": 35,
   "metadata": {},
   "outputs": [],
   "source": [
    "count_frame = pd.concat([count_frame, ran_new], axis = 0)\n",
    "# count_frame"
   ]
  },
  {
   "cell_type": "code",
   "execution_count": 53,
   "metadata": {},
   "outputs": [
    {
     "name": "stderr",
     "output_type": "stream",
     "text": [
      "/home/nishant/anaconda3/lib/python3.6/site-packages/ipykernel_launcher.py:2: SettingWithCopyWarning: \n",
      "A value is trying to be set on a copy of a slice from a DataFrame.\n",
      "Try using .loc[row_indexer,col_indexer] = value instead\n",
      "\n",
      "See the caveats in the documentation: http://pandas.pydata.org/pandas-docs/stable/indexing.html#indexing-view-versus-copy\n",
      "  \n",
      "/home/nishant/anaconda3/lib/python3.6/site-packages/ipykernel_launcher.py:3: SettingWithCopyWarning: \n",
      "A value is trying to be set on a copy of a slice from a DataFrame.\n",
      "Try using .loc[row_indexer,col_indexer] = value instead\n",
      "\n",
      "See the caveats in the documentation: http://pandas.pydata.org/pandas-docs/stable/indexing.html#indexing-view-versus-copy\n",
      "  This is separate from the ipykernel package so we can avoid doing imports until\n"
     ]
    }
   ],
   "source": [
    "data = bitcoin[[\"Date\", \"btc_cost_per_transaction\"]]\n",
    "data[\"Year\"]= pd.to_datetime(data[\"Date\"]).dt.year\n",
    "data[\"Month\"] = pd.to_datetime(data[\"Date\"]).dt.month"
   ]
  },
  {
   "cell_type": "code",
   "execution_count": 54,
   "metadata": {},
   "outputs": [],
   "source": [
    "monthlyAvg = data.groupby(['Year', 'Month']).mean()\n",
    "mAvg_BTC = monthlyAvg.reset_index()"
   ]
  },
  {
   "cell_type": "code",
   "execution_count": 55,
   "metadata": {},
   "outputs": [],
   "source": [
    "data_set = pd.merge(mAvg_BTC, count_frame,  how='right', left_on=['Year','Month'], right_on = ['Year','Month'])"
   ]
  },
  {
   "cell_type": "code",
   "execution_count": 56,
   "metadata": {},
   "outputs": [],
   "source": [
    "data_set.drop_duplicates(inplace=True)\n",
    "data_set = data_set.drop([16])"
   ]
  },
  {
   "cell_type": "code",
   "execution_count": 58,
   "metadata": {},
   "outputs": [],
   "source": [
    "X_arr = np.asarray(data_set.btc_cost_per_transaction)\n",
    "Y_arr = np.asarray(data_set.Count)\n",
    "X_arr = X_arr / max(X_arr)\n",
    "Y_arr = Y_arr / max(Y_arr)"
   ]
  },
  {
   "cell_type": "code",
   "execution_count": 59,
   "metadata": {},
   "outputs": [
    {
     "data": {
      "text/html": [
       "<div>\n",
       "<style scoped>\n",
       "    .dataframe tbody tr th:only-of-type {\n",
       "        vertical-align: middle;\n",
       "    }\n",
       "\n",
       "    .dataframe tbody tr th {\n",
       "        vertical-align: top;\n",
       "    }\n",
       "\n",
       "    .dataframe thead th {\n",
       "        text-align: right;\n",
       "    }\n",
       "</style>\n",
       "<table border=\"1\" class=\"dataframe\">\n",
       "  <thead>\n",
       "    <tr style=\"text-align: right;\">\n",
       "      <th></th>\n",
       "      <th>Year</th>\n",
       "      <th>Month</th>\n",
       "      <th>btc_cost_per_transaction</th>\n",
       "      <th>Count</th>\n",
       "    </tr>\n",
       "  </thead>\n",
       "  <tbody>\n",
       "    <tr>\n",
       "      <th>0</th>\n",
       "      <td>2015</td>\n",
       "      <td>1</td>\n",
       "      <td>10.183137</td>\n",
       "      <td>3</td>\n",
       "    </tr>\n",
       "    <tr>\n",
       "      <th>1</th>\n",
       "      <td>2015</td>\n",
       "      <td>2</td>\n",
       "      <td>9.362225</td>\n",
       "      <td>1</td>\n",
       "    </tr>\n",
       "    <tr>\n",
       "      <th>2</th>\n",
       "      <td>2015</td>\n",
       "      <td>3</td>\n",
       "      <td>10.114512</td>\n",
       "      <td>4</td>\n",
       "    </tr>\n",
       "    <tr>\n",
       "      <th>3</th>\n",
       "      <td>2015</td>\n",
       "      <td>4</td>\n",
       "      <td>7.893575</td>\n",
       "      <td>3</td>\n",
       "    </tr>\n",
       "    <tr>\n",
       "      <th>4</th>\n",
       "      <td>2015</td>\n",
       "      <td>5</td>\n",
       "      <td>8.336469</td>\n",
       "      <td>4</td>\n",
       "    </tr>\n",
       "    <tr>\n",
       "      <th>5</th>\n",
       "      <td>2015</td>\n",
       "      <td>6</td>\n",
       "      <td>7.563553</td>\n",
       "      <td>1</td>\n",
       "    </tr>\n",
       "    <tr>\n",
       "      <th>6</th>\n",
       "      <td>2015</td>\n",
       "      <td>7</td>\n",
       "      <td>7.873976</td>\n",
       "      <td>1</td>\n",
       "    </tr>\n",
       "    <tr>\n",
       "      <th>7</th>\n",
       "      <td>2015</td>\n",
       "      <td>8</td>\n",
       "      <td>8.287539</td>\n",
       "      <td>5</td>\n",
       "    </tr>\n",
       "    <tr>\n",
       "      <th>8</th>\n",
       "      <td>2015</td>\n",
       "      <td>9</td>\n",
       "      <td>6.544047</td>\n",
       "      <td>1</td>\n",
       "    </tr>\n",
       "    <tr>\n",
       "      <th>9</th>\n",
       "      <td>2015</td>\n",
       "      <td>10</td>\n",
       "      <td>7.187905</td>\n",
       "      <td>2</td>\n",
       "    </tr>\n",
       "    <tr>\n",
       "      <th>10</th>\n",
       "      <td>2015</td>\n",
       "      <td>11</td>\n",
       "      <td>8.624278</td>\n",
       "      <td>5</td>\n",
       "    </tr>\n",
       "    <tr>\n",
       "      <th>11</th>\n",
       "      <td>2015</td>\n",
       "      <td>12</td>\n",
       "      <td>8.898581</td>\n",
       "      <td>2</td>\n",
       "    </tr>\n",
       "    <tr>\n",
       "      <th>12</th>\n",
       "      <td>2016</td>\n",
       "      <td>1</td>\n",
       "      <td>8.672535</td>\n",
       "      <td>6</td>\n",
       "    </tr>\n",
       "    <tr>\n",
       "      <th>13</th>\n",
       "      <td>2016</td>\n",
       "      <td>2</td>\n",
       "      <td>7.361129</td>\n",
       "      <td>5</td>\n",
       "    </tr>\n",
       "    <tr>\n",
       "      <th>14</th>\n",
       "      <td>2016</td>\n",
       "      <td>3</td>\n",
       "      <td>8.010347</td>\n",
       "      <td>10</td>\n",
       "    </tr>\n",
       "    <tr>\n",
       "      <th>15</th>\n",
       "      <td>2016</td>\n",
       "      <td>4</td>\n",
       "      <td>7.689854</td>\n",
       "      <td>14</td>\n",
       "    </tr>\n",
       "    <tr>\n",
       "      <th>17</th>\n",
       "      <td>2016</td>\n",
       "      <td>5</td>\n",
       "      <td>8.032089</td>\n",
       "      <td>13</td>\n",
       "    </tr>\n",
       "    <tr>\n",
       "      <th>18</th>\n",
       "      <td>2016</td>\n",
       "      <td>6</td>\n",
       "      <td>10.686141</td>\n",
       "      <td>13</td>\n",
       "    </tr>\n",
       "    <tr>\n",
       "      <th>19</th>\n",
       "      <td>2016</td>\n",
       "      <td>7</td>\n",
       "      <td>7.499751</td>\n",
       "      <td>5</td>\n",
       "    </tr>\n",
       "    <tr>\n",
       "      <th>20</th>\n",
       "      <td>2016</td>\n",
       "      <td>8</td>\n",
       "      <td>5.067997</td>\n",
       "      <td>9</td>\n",
       "    </tr>\n",
       "    <tr>\n",
       "      <th>21</th>\n",
       "      <td>2016</td>\n",
       "      <td>9</td>\n",
       "      <td>5.417809</td>\n",
       "      <td>9</td>\n",
       "    </tr>\n",
       "    <tr>\n",
       "      <th>22</th>\n",
       "      <td>2016</td>\n",
       "      <td>10</td>\n",
       "      <td>5.221308</td>\n",
       "      <td>5</td>\n",
       "    </tr>\n",
       "    <tr>\n",
       "      <th>23</th>\n",
       "      <td>2016</td>\n",
       "      <td>11</td>\n",
       "      <td>5.320878</td>\n",
       "      <td>8</td>\n",
       "    </tr>\n",
       "    <tr>\n",
       "      <th>24</th>\n",
       "      <td>2016</td>\n",
       "      <td>12</td>\n",
       "      <td>6.010357</td>\n",
       "      <td>1</td>\n",
       "    </tr>\n",
       "    <tr>\n",
       "      <th>25</th>\n",
       "      <td>2017</td>\n",
       "      <td>1</td>\n",
       "      <td>6.970374</td>\n",
       "      <td>3</td>\n",
       "    </tr>\n",
       "    <tr>\n",
       "      <th>26</th>\n",
       "      <td>2017</td>\n",
       "      <td>2</td>\n",
       "      <td>7.457792</td>\n",
       "      <td>4</td>\n",
       "    </tr>\n",
       "    <tr>\n",
       "      <th>27</th>\n",
       "      <td>2017</td>\n",
       "      <td>3</td>\n",
       "      <td>8.293721</td>\n",
       "      <td>1</td>\n",
       "    </tr>\n",
       "    <tr>\n",
       "      <th>28</th>\n",
       "      <td>2017</td>\n",
       "      <td>4</td>\n",
       "      <td>9.257355</td>\n",
       "      <td>1</td>\n",
       "    </tr>\n",
       "    <tr>\n",
       "      <th>29</th>\n",
       "      <td>2017</td>\n",
       "      <td>5</td>\n",
       "      <td>13.613248</td>\n",
       "      <td>4</td>\n",
       "    </tr>\n",
       "    <tr>\n",
       "      <th>30</th>\n",
       "      <td>2017</td>\n",
       "      <td>6</td>\n",
       "      <td>22.339655</td>\n",
       "      <td>3</td>\n",
       "    </tr>\n",
       "    <tr>\n",
       "      <th>31</th>\n",
       "      <td>2017</td>\n",
       "      <td>7</td>\n",
       "      <td>23.883834</td>\n",
       "      <td>3</td>\n",
       "    </tr>\n",
       "  </tbody>\n",
       "</table>\n",
       "</div>"
      ],
      "text/plain": [
       "    Year  Month  btc_cost_per_transaction  Count\n",
       "0   2015      1                 10.183137      3\n",
       "1   2015      2                  9.362225      1\n",
       "2   2015      3                 10.114512      4\n",
       "3   2015      4                  7.893575      3\n",
       "4   2015      5                  8.336469      4\n",
       "5   2015      6                  7.563553      1\n",
       "6   2015      7                  7.873976      1\n",
       "7   2015      8                  8.287539      5\n",
       "8   2015      9                  6.544047      1\n",
       "9   2015     10                  7.187905      2\n",
       "10  2015     11                  8.624278      5\n",
       "11  2015     12                  8.898581      2\n",
       "12  2016      1                  8.672535      6\n",
       "13  2016      2                  7.361129      5\n",
       "14  2016      3                  8.010347     10\n",
       "15  2016      4                  7.689854     14\n",
       "17  2016      5                  8.032089     13\n",
       "18  2016      6                 10.686141     13\n",
       "19  2016      7                  7.499751      5\n",
       "20  2016      8                  5.067997      9\n",
       "21  2016      9                  5.417809      9\n",
       "22  2016     10                  5.221308      5\n",
       "23  2016     11                  5.320878      8\n",
       "24  2016     12                  6.010357      1\n",
       "25  2017      1                  6.970374      3\n",
       "26  2017      2                  7.457792      4\n",
       "27  2017      3                  8.293721      1\n",
       "28  2017      4                  9.257355      1\n",
       "29  2017      5                 13.613248      4\n",
       "30  2017      6                 22.339655      3\n",
       "31  2017      7                 23.883834      3"
      ]
     },
     "execution_count": 59,
     "metadata": {},
     "output_type": "execute_result"
    }
   ],
   "source": [
    "data_set"
   ]
  },
  {
   "cell_type": "markdown",
   "metadata": {},
   "source": [
    "### Wald's two population test for comparing the two lists"
   ]
  },
  {
   "cell_type": "code",
   "execution_count": 60,
   "metadata": {
    "scrolled": true
   },
   "outputs": [
    {
     "name": "stdout",
     "output_type": "stream",
     "text": [
      "Wald's Value:  0.5581626649782704\n",
      "Accept Null\n",
      "p_value 0.5767333126858334\n",
      "Confidence Interval = [-0.07965964387185412, 0.1430950197231398]\n"
     ]
    }
   ],
   "source": [
    "delta, se, w = wald(X_arr, Y_arr)\n",
    "print(\"p_value\", 2 * norm.cdf(-w))\n",
    "\n",
    "# 95% CI\n",
    "lower = delta + 1.96*se\n",
    "upper = delta - 1.96*se\n",
    "print(\"Confidence Interval = [{}, {}]\".format(upper, lower))"
   ]
  },
  {
   "cell_type": "code",
   "execution_count": 62,
   "metadata": {},
   "outputs": [],
   "source": [
    "X = [\"Jan 2015\", \"Feb 2015\", \"Mar 2015\", \"Apr 2015\", \"May 2015\", \"June 2015\", \"July 2015\", \"Aug 2015\", \"Sep 2015\", \"Oct 2015\", \"Nov 2015\", \"Dec 2015\", \"Jan 2016\", \"Feb 2016\", \"Mar 2016\", \"Apr 2016\", \"May 2016\", \"June 2016\", \"July 2016\", \"Aug 2016\", \"Sep 2016\", \"Oct 2016\", \"Nov 2016\", \"Dec 2016\", \"Jan 2017\", \"Feb 2017\", \"Mar 2017\", \"Apr 2017\", \"May 2017\", \"June 2017\", \"July 2017\"]"
   ]
  },
  {
   "cell_type": "markdown",
   "metadata": {},
   "source": [
    "### Parametric Inference for Gaussian Distribution"
   ]
  },
  {
   "cell_type": "code",
   "execution_count": 76,
   "metadata": {},
   "outputs": [
    {
     "data": {
      "image/png": "[encoded data removed]",
      "text/plain": [
       "<matplotlib.figure.Figure at 0x7efdd974a6d8>"
      ]
     },
     "metadata": {},
     "output_type": "display_data"
    }
   ],
   "source": [
    "plot(Y_arr)"
   ]
  },
  {
   "cell_type": "code",
   "execution_count": 94,
   "metadata": {},
   "outputs": [
    {
     "name": "stdout",
     "output_type": "stream",
     "text": [
      "MLE parameters: mu = 0.34331797235023037, sigma = 0.2656673034864736\n"
     ]
    },
    {
     "data": {
      "image/png": "[encoded data removed]",
      "text/plain": [
       "<matplotlib.figure.Figure at 0x7efdd82fca58>"
      ]
     },
     "metadata": {},
     "output_type": "display_data"
    }
   ],
   "source": [
    "mu_mle = np.mean(Y_arr)\n",
    "sigma_mle = np.sqrt(np.var(Y_arr))\n",
    "print(\"MLE parameters: mu = {}, sigma = {}\".format(mu_mle, sigma_mle))\n",
    "\n",
    "plt.title(\"Gaussian Distribution\", fontsize= 12)\n",
    "plt.xlabel(\"X_value\", fontsize= 12)\n",
    "plt.ylabel(\"Y_value\", fontsize= 12)\n",
    "plt.legend(['PDF'])\n",
    "x = np.linspace(mu_mle - 3*sigma_mle, mu_mle + 3*sigma_mle, 100)\n",
    "plt.plot(x,mlab.normpdf(x, mu_mle, sigma_mle))\n",
    "\n",
    "plt.show()"
   ]
  },
  {
   "cell_type": "markdown",
   "metadata": {},
   "source": [
    "### Bayesian Inference"
   ]
  },
  {
   "cell_type": "code",
   "execution_count": 110,
   "metadata": {
    "scrolled": true
   },
   "outputs": [
    {
     "data": {
      "image/png": "[encoded data removed]",
      "text/plain": [
       "<matplotlib.figure.Figure at 0x7efdd3b1cf98>"
      ]
     },
     "metadata": {},
     "output_type": "display_data"
    },
    {
     "data": {
      "text/html": [
       "<div>\n",
       "<style scoped>\n",
       "    .dataframe tbody tr th:only-of-type {\n",
       "        vertical-align: middle;\n",
       "    }\n",
       "\n",
       "    .dataframe tbody tr th {\n",
       "        vertical-align: top;\n",
       "    }\n",
       "\n",
       "    .dataframe thead th {\n",
       "        text-align: right;\n",
       "    }\n",
       "</style>\n",
       "<table border=\"1\" class=\"dataframe\">\n",
       "  <thead>\n",
       "    <tr style=\"text-align: right;\">\n",
       "      <th></th>\n",
       "      <th>Mean</th>\n",
       "      <th>Variance</th>\n",
       "    </tr>\n",
       "  </thead>\n",
       "  <tbody>\n",
       "    <tr>\n",
       "      <th>0</th>\n",
       "      <td>0.332589</td>\n",
       "      <td>0.031250</td>\n",
       "    </tr>\n",
       "    <tr>\n",
       "      <th>1</th>\n",
       "      <td>0.346318</td>\n",
       "      <td>0.015873</td>\n",
       "    </tr>\n",
       "    <tr>\n",
       "      <th>2</th>\n",
       "      <td>0.336853</td>\n",
       "      <td>0.010638</td>\n",
       "    </tr>\n",
       "    <tr>\n",
       "      <th>3</th>\n",
       "      <td>0.336445</td>\n",
       "      <td>0.008000</td>\n",
       "    </tr>\n",
       "    <tr>\n",
       "      <th>4</th>\n",
       "      <td>0.336875</td>\n",
       "      <td>0.006410</td>\n",
       "    </tr>\n",
       "  </tbody>\n",
       "</table>\n",
       "</div>"
      ],
      "text/plain": [
       "       Mean  Variance\n",
       "0  0.332589  0.031250\n",
       "1  0.346318  0.015873\n",
       "2  0.336853  0.010638\n",
       "3  0.336445  0.008000\n",
       "4  0.336875  0.006410"
      ]
     },
     "execution_count": 110,
     "metadata": {},
     "output_type": "execute_result"
    }
   ],
   "source": [
    "t0 = pd.DataFrame(Y_arr).transpose()\n",
    "# t1 = pd.DataFrame(X_arr).transpose()\n",
    "# t2 = pd.DataFrame(X_arr).transpose()\n",
    "# t3 = pd.DataFrame(X_arr).transpose()\n",
    "# t = pd.DataFrame(X_arr).transpose()\n",
    "t1 = pd.DataFrame(np.random.normal(mu_mle, sigma_mle, 31)).transpose()\n",
    "t2 = pd.DataFrame(np.random.normal(mu_mle, sigma_mle, 31)).transpose()\n",
    "t3 = pd.DataFrame(np.random.normal(mu_mle, sigma_mle, 31)).transpose()\n",
    "t4 = pd.DataFrame(np.random.normal(mu_mle, sigma_mle, 31)).transpose()\n",
    "\n",
    "X_plt_data = pd.DataFrame()\n",
    "X_plt_data = X_plt_data.append([t0, t1, t2, t3, t4])\n",
    "\n",
    "\n",
    "funct(1, X_plt_data)"
   ]
  }
 ],
 "metadata": {
  "kernelspec": {
   "display_name": "Python 3",
   "language": "python",
   "name": "python3"
  },
  "language_info": {
   "codemirror_mode": {
    "name": "ipython",
    "version": 3
   },
   "file_extension": ".py",
   "mimetype": "text/x-python",
   "name": "python",
   "nbconvert_exporter": "python",
   "pygments_lexer": "ipython3",
   "version": "3.6.4"
  }
 },
 "nbformat": 4,
 "nbformat_minor": 2
}
