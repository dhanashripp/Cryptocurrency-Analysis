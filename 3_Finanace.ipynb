{
 "cells": [
  {
   "cell_type": "code",
   "execution_count": null,
   "metadata": {},
   "outputs": [],
   "source": [
    "# AUTHOR: Aditya Yele (ayele@cs.stonybrook.edu)\n",
    "# Task: Effect of financial sector on Crypto-Currency and vice versa"
   ]
  },
  {
   "cell_type": "code",
   "execution_count": 1,
   "metadata": {},
   "outputs": [],
   "source": [
    "import numpy as np\n",
    "import matplotlib.pyplot as plt\n",
    "import pandas as pd\n",
    "import seaborn as sns\n",
    "from utils import *\n",
    "from sklearn.model_selection import train_test_split\n",
    "from sklearn.linear_model import LinearRegression\n",
    "from sklearn.metrics import mean_squared_error\n",
    "from sklearn.metrics import accuracy_score\n",
    "from sklearn.preprocessing import Imputer\n",
    "from sklearn import preprocessing\n",
    "import math\n",
    "plt.style.use('fivethirtyeight')"
   ]
  },
  {
   "cell_type": "code",
   "execution_count": null,
   "metadata": {},
   "outputs": [],
   "source": [
    "# Helper functions and Initialization\n",
    "%matplotlib inline\n",
    "\n",
    "def plotAllData(label, x = None, y = None):\n",
    "    plt.title(label)\n",
    "    plt.plot(x, y)\n",
    "    plt.show()\n",
    "    \n",
    "def plotBitCoin(bitCoin, date, fieldName):\n",
    "    plotAllData(fieldName, date, bitCoin[fieldName])\n",
    "    \n",
    "def plotAllFields(data):\n",
    "    columns = data.columns\n",
    "    date = pd.to_datetime(data[columns[0]])\n",
    "    for i in range(1, len(columns)):\n",
    "        print ('Graph: ', columns[i])\n",
    "        plt.title(columns[i])\n",
    "        plt.plot(date, data[columns[i]])\n",
    "        plt.show()"
   ]
  },
  {
   "cell_type": "code",
   "execution_count": null,
   "metadata": {},
   "outputs": [],
   "source": [
    "# Normalize data using Min Max scaling\n",
    "def dataNormalization(x):\n",
    "    #x = nData.values\n",
    "    min_max_scaler = preprocessing.MinMaxScaler()\n",
    "    x_scaled = min_max_scaler.fit_transform(x)\n",
    "    #scaledData = pd.DataFrame(x_scaled, columns = list(nData.columns))\n",
    "    return x_scaled\n",
    "\n",
    "def normalize(x):\n",
    "    mx_list = np.amax(x, axis = 0, keepdims = True)\n",
    "    #print mx_list.shape\n",
    "    mxAll = np.amax(mx_list)    \n",
    "    nrm_const_list = np.reciprocal(mx_list)*mxAll\n",
    "    #print nrm_const_list.shape\n",
    "    x = x*nrm_const_list\n",
    "    return x\n",
    "\n",
    "def preproc_data(df, bt_ftrs):\n",
    "    nw_df = df[['Date','Close']].copy()\n",
    "    nw_df['Date'] = pd.to_datetime(nw_df['Date'])\n",
    "    #print(nw_nvda_df.head())\n",
    "    #print('Columns:', nw_nvda_df.columns)\n",
    "    rw_data = nw_df.merge(bt_ftrs, left_on='Date', right_on='Date', how='inner')\n",
    "    #nvda_rw_data.replace([np.inf, -np.inf], np.nan)\n",
    "    #nvda_rw_data.dropna(axis=1, how='any')\n",
    "    #print(nvda_rw_data.head())\n",
    "    #nvda_rw_data=Imputer().fit_transform(nvda_rw_data)\n",
    "    #print nvda_rw_data.max()\n",
    "    x = rw_data[['btc_market_price','btc_total_bitcoins','btc_trade_volume','btc_n_transactions']].copy()\n",
    "    y = rw_data[['Close']].copy()    \n",
    "    #print(nvda_pred_data.head())\n",
    "    #print(nvda_y.shape)\n",
    "    x=Imputer().fit_transform(x,y)\n",
    "    y = Imputer().fit_transform(y)\n",
    "    #print np.amax(x, axis = 1)\n",
    "    ###############################################################\n",
    "#     mx_list = np.amax(x, axis = 0, keepdims = True)\n",
    "#     print mx_list.shape\n",
    "#     mxAll = np.amax(mx_list)    \n",
    "#     nrm_const_list = np.reciprocal(mx_list)*mxAll\n",
    "#     print nrm_const_list.shape\n",
    "#     x = x*nrm_const_list\n",
    "    ############################################################\n",
    "    x = dataNormalization(x)\n",
    "    y = dataNormalization(y)\n",
    "    return x,y\n",
    "\n",
    "def linreg(X,y,nm):\n",
    "    x = normalize(X)\n",
    "    y = normalize(y)\n",
    "    X_train, X_test, y_train, y_test = train_test_split(X, y, test_size=0.25, random_state=1)\n",
    "    regression_model = LinearRegression()\n",
    "    regression_model.fit(X_train, y_train)\n",
    "    #print(\"score\",regression_model.score(X_test, y_test))\n",
    "    y_predict = regression_model.predict(X_test)\n",
    "    print(\"error\")\n",
    "    error(y_predict, y_test)\n",
    "    print (\"sse\",SSE(y_test,y_predict))\n",
    "    print (\"mape\", float(MAPE(y_test, y_predict)))\n",
    "    print (regression_model.coef_)\n",
    "    #print (y_test.shape)\n",
    "    #print (X_test.shape)\n",
    "    #print (y_predict.shape)    \n",
    "    plt.figure(figsize=(8,8),dpi=100)\n",
    "    plt.title(nm.upper()+\": Y vs Y_Prediction\")\n",
    "    plt.scatter(y_test,y_predict, label='Y_Prediction')\n",
    "    #plt.plot(X_test[:,0],y_predict)    \n",
    "    plt.xlabel('Actual', fontsize=18)\n",
    "    plt.ylabel('Prediction', fontsize=18)\n",
    "    a = np.linspace(0, max(y_predict), 1000)    \n",
    "    plt.plot(a,a,color='r', label='Expected')\n",
    "    plt.legend()\n",
    "    plt.savefig(nm,bbox_inches=\"tight\")    \n",
    "    #fig = plt.figure()\n",
    "    #ax = fig.add_subplot(111, projection='3d')\n",
    "\n",
    "    #sp = ax.scatter(X_test[:,0],X_test[:,1],X_test[:,2], c=y_test, s=20)\n",
    "    #plt.colorbar(sp)\n",
    "    #sp = ax.plot(X_test[:0], X_test[:,1],X_test[:,2], c=y_predict, s=20 )\n",
    "    #plt.colorbar(sp)\n",
    "    plt.show()\n",
    "    return regression_model\n",
    "    #print(\"accuracy\",accuracy_score(y_predict, y_test))\n",
    "    #regression_model_mse = mean_squared_error(y_predict, y_test)\n",
    "    #print(\"mse\",regression_model_mse)\n",
    "    #print(\"sqrt\",math.sqrt(regression_model_mse))\n",
    "    "
   ]
  },
  {
   "cell_type": "code",
   "execution_count": null,
   "metadata": {},
   "outputs": [],
   "source": [
    "from mpl_toolkits.mplot3d import Axes3D\n",
    "#[np.isnan(nvda_x) == True]\n",
    "#print t\n",
    "#print tmp\n",
    "#print np.all(np.isfinite(nvda_y))\n",
    "#np.argwhere(np.isnan(nvda_x))\n",
    "#print list(map(tuple, np.where(np.isnan(nvda_x))))\n",
    "#print nvda_x\n",
    "#nvda_x\n",
    "#nvda_x=Imputer().fit_transform(nvda_x,nvda_y)\n",
    "#nvda_y = Imputer().fit_transform(nvda_y)\n",
    "#print(nvda_x)\n",
    "print(\"#######################NVDIA################################\")\n",
    "nvda_x, nvda_y = preproc_data(nvda_Data, bt_ftrs)\n",
    "\n",
    "print (nvda_x.shape)\n",
    "print (nvda_y.shape)\n",
    "nvda_model = linreg(nvda_x,nvda_y,\"nvidia\")\n",
    "print(\"#######################################################\")\n",
    "\n",
    "\n",
    "bt_ftrs = btc_Data[['Date','btc_market_price','btc_total_bitcoins','btc_trade_volume','btc_n_transactions']].copy()\n",
    "bt_ftrs['Date'] = pd.to_datetime(bt_ftrs['Date'])\n",
    "print(\"#######################AMD################################\")\n",
    "amd_x, amd_y = preproc_data(amd_Data, bt_ftrs)\n",
    "print (amd_x.shape)\n",
    "print (amd_y.shape)\n",
    "amd_model = linreg(amd_x,amd_y,\"amd\")\n",
    "print(\"#######################################################\")\n",
    "\n",
    "\n",
    "bt_ftrs = btc_Data[['Date','btc_market_price','btc_total_bitcoins','btc_trade_volume','btc_n_transactions']].copy()\n",
    "bt_ftrs['Date'] = pd.to_datetime(bt_ftrs['Date'])\n",
    "print(\"#######################TSM################################\")\n",
    "tsm_x, tsm_y = preproc_data(tsm_Data, bt_ftrs)\n",
    "print (tsm_x.shape)\n",
    "print (tsm_y.shape)\n",
    "tsm_model=linreg(tsm_x,tsm_y,\"tsm\")\n",
    "print(\"#######################################################\")\n",
    "\n"
   ]
  },
  {
   "cell_type": "code",
   "execution_count": null,
   "metadata": {},
   "outputs": [],
   "source": [
    "print (nvda_x.max())\n",
    "print (nvda_y.max())"
   ]
  },
  {
   "cell_type": "code",
   "execution_count": null,
   "metadata": {
    "collapsed": true
   },
   "outputs": [],
   "source": [
    "# Bitcoin Price\n",
    "btc_Data = pd.read_csv('Data/bitcoin_price.csv')\n",
    "dateData = pd.to_datetime(btc_Data['Date'])"
   ]
  },
  {
   "cell_type": "code",
   "execution_count": null,
   "metadata": {
    "collapsed": true
   },
   "outputs": [],
   "source": [
    "btc_Data['100ma'] = btc_Data['Close'].rolling(window=100,min_periods=0).mean()"
   ]
  },
  {
   "cell_type": "code",
   "execution_count": null,
   "metadata": {},
   "outputs": [],
   "source": [
    "plotAllFields(btc_Data)"
   ]
  },
  {
   "cell_type": "code",
   "execution_count": null,
   "metadata": {},
   "outputs": [],
   "source": [
    "# Bit coin dataset\n",
    "bData = pd.read_csv('Data/bitcoin_dataset.csv')\n",
    "bData.columns"
   ]
  },
  {
   "cell_type": "code",
   "execution_count": null,
   "metadata": {},
   "outputs": [],
   "source": [
    "sns.pairplot(bData[bData.columns[[8, 9]]],palette='afmhot')"
   ]
  },
  {
   "cell_type": "code",
   "execution_count": null,
   "metadata": {},
   "outputs": [],
   "source": [
    "sns.pairplot(bData[['btc_hash_rate', 'btc_difficulty']],palette='afmhot')"
   ]
  },
  {
   "cell_type": "code",
   "execution_count": null,
   "metadata": {},
   "outputs": [],
   "source": [
    "plotAllFields(bData)"
   ]
  },
  {
   "cell_type": "code",
   "execution_count": null,
   "metadata": {},
   "outputs": [],
   "source": [
    "# bitcoin_cash_price.csv\n",
    "bData = pd.read_csv('Data/bitcoin_cash_price.csv')\n",
    "print('Columns:', bData.columns)"
   ]
  },
  {
   "cell_type": "code",
   "execution_count": null,
   "metadata": {},
   "outputs": [],
   "source": [
    "plotAllFields(bData)"
   ]
  },
  {
   "cell_type": "code",
   "execution_count": null,
   "metadata": {},
   "outputs": [],
   "source": [
    "sns.pairplot(bData[bData.columns[[1,2,3,4,5,6]]],palette='afmhot')"
   ]
  },
  {
   "cell_type": "code",
   "execution_count": null,
   "metadata": {},
   "outputs": [],
   "source": [
    "# bitcoin_cash_price.csv\n",
    "amd_Data = pd.read_csv('asiccompanies/amd.us.txt')\n",
    "print('Columns:', amd_Data.columns)"
   ]
  },
  {
   "cell_type": "code",
   "execution_count": null,
   "metadata": {
    "collapsed": true
   },
   "outputs": [],
   "source": [
    "amd_Data['100ma'] = amd_Data['Close'].rolling(window=100,min_periods=0).mean()"
   ]
  },
  {
   "cell_type": "code",
   "execution_count": null,
   "metadata": {},
   "outputs": [],
   "source": [
    "plotAllFields(amd_Data)"
   ]
  },
  {
   "cell_type": "code",
   "execution_count": null,
   "metadata": {},
   "outputs": [],
   "source": [
    "# bitcoin_cash_price.csv\n",
    "nvda_Data = pd.read_csv('asiccompanies/nvda.us.txt')\n",
    "print('Columns:', nvda_Data.columns)\n",
    "print(nvda_Data.tail())"
   ]
  },
  {
   "cell_type": "code",
   "execution_count": null,
   "metadata": {
    "collapsed": true
   },
   "outputs": [],
   "source": [
    "nvda_Data['100ma'] = nvda_Data['Close'].rolling(window=100,min_periods=0).mean()"
   ]
  },
  {
   "cell_type": "code",
   "execution_count": null,
   "metadata": {},
   "outputs": [],
   "source": [
    "plotAllFields(nvda_Data)"
   ]
  },
  {
   "cell_type": "code",
   "execution_count": null,
   "metadata": {},
   "outputs": [],
   "source": [
    "# bitcoin_cash_price.csv\n",
    "tsm_Data = pd.read_csv('asiccompanies/tsm.us.txt')\n",
    "print('Columns:', tsm_Data.columns)"
   ]
  },
  {
   "cell_type": "code",
   "execution_count": null,
   "metadata": {
    "collapsed": true
   },
   "outputs": [],
   "source": [
    "tsm_Data['100ma'] = tsm_Data['Close'].rolling(window=100,min_periods=0).mean()"
   ]
  },
  {
   "cell_type": "code",
   "execution_count": null,
   "metadata": {},
   "outputs": [],
   "source": [
    "plotAllFields(tsm_Data)"
   ]
  },
  {
   "cell_type": "code",
   "execution_count": null,
   "metadata": {},
   "outputs": [],
   "source": [
    "btc_Data = pd.read_csv('Data/bitcoin_dataset.csv')\n",
    "bt_ftrs = btc_Data[['Date','btc_market_price','btc_total_bitcoins','btc_trade_volume','btc_n_transactions']].copy()\n",
    "bt_ftrs['Date'] = pd.to_datetime(bt_ftrs['Date'])\n",
    "print(bt_ftrs.tail())\n",
    "#print('Columns:', bt_ftrs.columns)"
   ]
  },
  {
   "cell_type": "code",
   "execution_count": null,
   "metadata": {},
   "outputs": [],
   "source": [
    "\n",
    "#nw_nvda_df = nvda_Data[['Date','Close']].copy()\n",
    "#nw_nvda_df['Date'] = pd.to_datetime(nw_nvda_df['Date'])\n",
    "#print(nw_nvda_df.head())\n",
    "#print('Columns:', nw_nvda_df.columns)"
   ]
  },
  {
   "cell_type": "code",
   "execution_count": null,
   "metadata": {},
   "outputs": [],
   "source": [
    "#nvda_rw_data = nw_nvda_df.merge(bt_ftrs, left_on='Date', right_on='Date', how='inner')\n",
    "#nvda_rw_data.replace([np.inf, -np.inf], np.nan)\n",
    "#nvda_rw_data.dropna(axis=1, how='any')\n",
    "#print(nvda_rw_data.head())\n",
    "#nvda_rw_data=Imputer().fit_transform(nvda_rw_data)\n",
    "#print nvda_rw_data.max()\n",
    "#nvda_x = nvda_rw_data[['btc_market_price','btc_total_bitcoins','btc_trade_volume','btc_n_transactions']].copy()\n",
    "#nvda_y = nvda_rw_data[['Close']].copy()\n",
    "\n",
    "#print(nvda_pred_data.head())\n",
    "#print(nvda_y.shape)"
   ]
  },
  {
   "cell_type": "code",
   "execution_count": null,
   "metadata": {},
   "outputs": [],
   "source": [
    "#[np.isnan(nvda_x) == True]\n",
    "#print t\n",
    "#print tmp\n",
    "#print np.all(np.isfinite(nvda_y))\n",
    "#np.argwhere(np.isnan(nvda_x))\n",
    "#print list(map(tuple, np.where(np.isnan(nvda_x))))\n",
    "#print nvda_x\n",
    "#nvda_x\n",
    "#nvda_x=Imputer().fit_transform(nvda_x,nvda_y)\n",
    "#nvda_y = Imputer().fit_transform(nvda_y)\n",
    "#print(nvda_x)\n",
    "print(\"#######################NVDIA################################\")\n",
    "nvda_x, nvda_y = preproc_data(nvda_Data, bt_ftrs)\n",
    "\n",
    "print (nvda_x.shape)\n",
    "print (nvda_y.shape)\n",
    "nvda_model = linreg(nvda_x,nvda_y,\"nvidia\")\n",
    "print(\"#######################################################\")\n",
    "\n",
    "\n",
    "#bt_ftrs = btc_Data[['Date','btc_market_price','btc_total_bitcoins','btc_trade_volume','btc_n_transactions']].copy()\n",
    "#bt_ftrs['Date'] = pd.to_datetime(bt_ftrs['Date'])\n",
    "print(\"#######################AMD################################\")\n",
    "amd_x, amd_y = preproc_data(amd_Data, bt_ftrs)\n",
    "print (amd_x.shape)\n",
    "print (amd_y.shape)\n",
    "amd_model = linreg(amd_x,amd_y,\"amd\")\n",
    "print(\"#######################################################\")\n",
    "\n",
    "\n",
    "#bt_ftrs = btc_Data[['Date','btc_market_price','btc_total_bitcoins','btc_trade_volume','btc_n_transactions']].copy()\n",
    "#bt_ftrs['Date'] = pd.to_datetime(bt_ftrs['Date'])\n",
    "print(\"#######################TSM################################\")\n",
    "tsm_x, tsm_y = preproc_data(tsm_Data, bt_ftrs)\n",
    "print (tsm_x.shape)\n",
    "print (tsm_y.shape)\n",
    "tsm_model=linreg(tsm_x,tsm_y,\"tsm\")\n",
    "print(\"#######################################################\")\n",
    "\n"
   ]
  },
  {
   "cell_type": "code",
   "execution_count": null,
   "metadata": {},
   "outputs": [],
   "source": [
    "plt.plot(pd.to_datetime(nvda_Data['Date']), nvda_Data['Close'])\n",
    "#btc_Data[['Date','btc_market_price','btc_total_bitcoins','btc_trade_volume','btc_n_transactions']]\n",
    "plt.plot(pd.to_datetime(btc_Data['Date']), btc_Data['btc_market_price'])\n"
   ]
  },
  {
   "cell_type": "code",
   "execution_count": 4,
   "metadata": {},
   "outputs": [],
   "source": [
    "gdp_data = pd.read_csv('gdp/greece.csv')\n",
    "#print (gdp_data.columns)\n",
    "#plt.plot(gdp_data['TIME'], gdp_data['Value'])\n",
    "x = gdp_data['GDP']\n",
    "#print (x)"
   ]
  },
  {
   "cell_type": "code",
   "execution_count": 5,
   "metadata": {},
   "outputs": [],
   "source": [
    "btc_Data = pd.read_csv('ProcessedDataAll.csv')\n",
    "#btc_Data['Date'] = pd.to_datetime(btc_Data['Date'])\n",
    "#btc_Data['Date'].sort_values()\n",
    "#btc_Data = btc_Data.sort_values(by='Date',ascending=True)\n",
    "#print(btc_Data.head())\n",
    "#print(len(btc_Data))\n",
    "tmp = []\n",
    "for i in range(0,len(btc_Data),3):\n",
    "    #print(btc_Data.iloc[[i]])\n",
    "    #print(btc_Data.iloc[[0]])\n",
    "    rw1 = btc_Data.iloc[[i]]\n",
    "    rw2 = btc_Data.iloc[[i]]\n",
    "    rw3 = btc_Data.iloc[[i]]\n",
    "    avg = (rw1['btc_market_price']+rw2['btc_market_price']+rw3['btc_market_price'])/float(3)\n",
    "#     print (avg.values[0])\n",
    "   \n",
    "    tmp.append(avg.values[0])\n",
    "# t = pd.DataFrame(tmp, columns=list('A'))\n",
    "#print (len(tmp))"
   ]
  },
  {
   "cell_type": "code",
   "execution_count": 9,
   "metadata": {},
   "outputs": [
    {
     "name": "stdout",
     "output_type": "stream",
     "text": [
      "tmp 17\n",
      "score 0.136931403237\n",
      "error\n",
      "[ 175.89623671]\n",
      "sse [ 1.12395911]\n",
      "mape 175.8962367112159\n"
     ]
    }
   ],
   "source": [
    "y=np.asarray(tmp)\n",
    "print (\"tmp\", len(tmp))\n",
    "y = y.reshape(-1,1)\n",
    "#y=-1*y\n",
    "x = x.reshape(-1,1)\n",
    "#print(\"beforeX\",max(x))\n",
    "#print(\"beforeY\",max(y))\n",
    "x = x/float(max(x))\n",
    "y = y/float(max(y))\n",
    "# x=dataNormalization(x)\n",
    "# y=dataNormalization(y)\n",
    "#print(\"after\",max(x))\n",
    "#print(\"after\",max(y))\n",
    "# mxX = np.amax(x)   \n",
    "# mxY = np.amax(y)\n",
    "# x = x/float(mxX)\n",
    "# y = y/float(mxY)\n",
    "#x = x*(float(mxX/mxY))\n",
    "#print (x.shape)\n",
    "# print (y.shape)\n",
    "X_train, X_test, y_train, y_test = train_test_split(x, y, test_size=0, random_state=1)\n",
    "regression_model = LinearRegression()\n",
    "#print (X_train.shape)\n",
    "#print (y_train.shape)\n",
    "regression_model.fit(X_train, y_train)\n",
    "print(\"score\",regression_model.score(X_train, y_train))\n",
    "y_predict = regression_model.predict(X_train)\n",
    "print(\"error\")\n",
    "error(y_predict, y_train)\n",
    "print (\"sse\",SSE(y_train,y_predict))\n",
    "print (\"mape\", float(MAPE(y_train, y_predict)))\n",
    "#print (regression_model.coef_)\n",
    "#plt.scatter(y_train, y_predict)\n",
    "#plt.scatter( X_train, y_train)\n",
    "# ['01/01/2013','01/04/2013','01/07/2013','01/10/2013','01/01/2014','01/04/2014','01/07/2014','01/10/2014','01/01/2015','01/04/2015','01/07/2015','01/10/2015','01/01/2016','01/04/2016','01/07/2016','01/10/2016','01/01/2017']\n",
    "#     dates.datestr2num('01/01/2013')\n",
    "#plt.plot([20131,20132,20133,20134,20141,20142,20143,20144,20151,20152,20153,20154,20161,20162,20163,20164,20171], y)\n",
    "#plt.show()\n",
    "#plt.plot([20131,20132,20133,20134,20141,20142,20143,20144,20151,20152,20153,20154,20161,20162,20163,20164,20171], x)\n",
    "#plt.plot(X_train, y_predic)\n",
    "# print (y_predict.shape)\n",
    "# print (y_test.shape)\n",
    "\n",
    "plt.figure(figsize=(8,8),dpi=100)\n",
    "plt.title(\"Greece Gdp and Bitcoin\"+\": Y vs Y_Prediction\")\n",
    "plt.scatter(y_train,y_predict, label='Y_Prediction')\n",
    "plt.xlabel('Actual', fontsize=18)\n",
    "plt.ylabel('Prediction', fontsize=18)\n",
    "a = np.linspace(0, max(y_predict), 1000)    \n",
    "plt.plot(a,a,color='r', label='Expected')\n",
    "plt.legend()\n",
    "plt.savefig(\"stk_grc\",bbox_inches=\"tight\")    \n",
    "#return regression_model\n"
   ]
  },
  {
   "cell_type": "code",
   "execution_count": null,
   "metadata": {
    "collapsed": true
   },
   "outputs": [],
   "source": [
    "plt.figure(figsize=(8,8),dpi=100)\n",
    "plt.savefig('nvda',bbox_inches=\"tight\")\n"
   ]
  },
  {
   "cell_type": "markdown",
   "metadata": {},
   "source": [
    "############################Permutation Test##########################"
   ]
  },
  {
   "cell_type": "code",
   "execution_count": null,
   "metadata": {},
   "outputs": [],
   "source": [
    "tsm_Data = pd.read_csv('asiccompanies/tsm.us.txt')\n",
    "print('Columns:', tsm_Data.columns)\n",
    "nw_tsm_df = tsm_Data[['Date','Close']].copy()\n",
    "nw_tsm_df['Date'] = pd.to_datetime(nw_tsm_df['Date'])"
   ]
  },
  {
   "cell_type": "code",
   "execution_count": null,
   "metadata": {},
   "outputs": [],
   "source": [
    "btc_Data = pd.read_csv('Data/bitcoin_dataset.csv')\n",
    "bt_ftrs = btc_Data[['Date','btc_market_price']].copy()\n",
    "bt_ftrs['Date'] = pd.to_datetime(bt_ftrs['Date'])"
   ]
  },
  {
   "cell_type": "code",
   "execution_count": null,
   "metadata": {},
   "outputs": [],
   "source": [
    "rw_data = nw_tsm_df.merge(bt_ftrs, left_on='Date', right_on='Date', how='inner')\n",
    "x = rw_data[['btc_market_price']].copy()\n",
    "y = rw_data[['Close']].copy() \n",
    "x=Imputer().fit_transform(x,y)\n",
    "y = Imputer().fit_transform(y)\n",
    "x = dataNormalization(x)\n",
    "y = dataNormalization(y)\n",
    "x = list(np.asarray(x).reshape(-1))\n",
    "y = list(np.asarray(y).reshape(-1))\n",
    "# print (len(x))\n",
    "# print (len(y))\n",
    "perm(x,y)"
   ]
  },
  {
   "cell_type": "code",
   "execution_count": null,
   "metadata": {},
   "outputs": [],
   "source": [
    "def perm(X,Y):\n",
    "    T_obs = abs(np.mean(X) - np.mean(Y))\n",
    "    perm = X + Y\n",
    "    count = 0\n",
    "    n_fact = 10000\n",
    "    for _ in range(n_fact):\n",
    "        tmp = np.random.permutation(perm)\n",
    "        X_p = tmp[:len(X)]\n",
    "        Y_p = tmp[len(X):]\n",
    "        T_p = abs(np.mean(X_p) - np.mean(Y_p))\n",
    "#         print(X_p, Y_p)\n",
    "#         print(T_obs, T_p)\n",
    "        if T_p > T_obs:\n",
    "            count += 1\n",
    "    p = count / n_fact\n",
    "    print(\"Value of P:\", p)\n",
    "\n",
    "    if p <= 0.05:\n",
    "        print(\"Reject Null\")\n",
    "    else:\n",
    "        print(\"Accept Null\")\n",
    "\n"
   ]
  },
  {
   "cell_type": "code",
   "execution_count": null,
   "metadata": {
    "collapsed": true
   },
   "outputs": [],
   "source": []
  }
 ],
 "metadata": {
  "kernelspec": {
   "display_name": "Python 2",
   "language": "python",
   "name": "python2"
  },
  "language_info": {
   "codemirror_mode": {
    "name": "ipython",
    "version": 2
   },
   "file_extension": ".py",
   "mimetype": "text/x-python",
   "name": "python",
   "nbconvert_exporter": "python",
   "pygments_lexer": "ipython2",
   "version": "2.7.14"
  }
 },
 "nbformat": 4,
 "nbformat_minor": 2
}
